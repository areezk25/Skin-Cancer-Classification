{
 "cells": [
  {
   "cell_type": "code",
   "execution_count": 1,
   "id": "51ff98f0-89f5-4e2b-a714-a62e9524f2cf",
   "metadata": {
    "ExecuteTime": {
     "end_time": "2023-07-26T11:56:38.232110600Z",
     "start_time": "2023-07-26T11:56:36.298283500Z"
    }
   },
   "outputs": [],
   "source": [
    "import torch\n",
    "import numpy as np\n",
    "from sklearn.metrics import roc_auc_score, accuracy_score, precision_score, recall_score, f1_score, confusion_matrix\n",
    "from sklearn.ensemble import RandomForestClassifier\n",
    "from sklearn.svm import SVC\n",
    "import torch.nn as nn\n",
    "import torch.optim as optim\n",
    "import torchvision.transforms as transforms\n",
    "from torchvision.models import resnet50\n",
    "from torch.utils.data import DataLoader, Dataset\n",
    "from PIL import Image\n",
    "import os\n",
    "import pandas as pd\n",
    "from sklearn.model_selection import train_test_split\n",
    "import matplotlib.pyplot as plt"
   ]
  },
  {
   "cell_type": "code",
   "execution_count": 2,
   "id": "cf5c102f-b3fd-40a7-bba5-90fc30c2cb05",
   "metadata": {
    "ExecuteTime": {
     "end_time": "2023-07-26T11:56:48.905162500Z",
     "start_time": "2023-07-26T11:56:48.883159Z"
    }
   },
   "outputs": [],
   "source": [
    "# Set device (GPU if available, else CPU)\n",
    "device = torch.device(\"cuda\" if torch.cuda.is_available() else \"cpu\")\n"
   ]
  },
  {
   "cell_type": "code",
   "execution_count": 3,
   "id": "26fa4d31-d58b-4e46-af1c-ad071bb8c21e",
   "metadata": {
    "ExecuteTime": {
     "end_time": "2023-07-26T11:56:51.084860Z",
     "start_time": "2023-07-26T11:56:51.077835Z"
    }
   },
   "outputs": [],
   "source": [
    "# Define transforms for data preprocessing\n",
    "transform = transforms.Compose([\n",
    "    transforms.Resize((224, 224)),\n",
    "    transforms.ToTensor(),\n",
    "    transforms.Normalize(mean=[0.485, 0.456, 0.406], std=[0.229, 0.224, 0.225]) #transform\n",
    "])"
   ]
  },
  {
   "cell_type": "code",
   "execution_count": 4,
   "id": "fbada890-3202-4568-bf63-4ba7495705b1",
   "metadata": {
    "ExecuteTime": {
     "end_time": "2023-07-26T11:56:55.700759400Z",
     "start_time": "2023-07-26T11:56:55.696998200Z"
    }
   },
   "outputs": [],
   "source": [
    "# Define dataset class\n",
    "class ISIC2017Dataset(torch.utils.data.Dataset):\n",
    "    def __init__(self, data_dir, labels_file, transform=None):\n",
    "        self.data_dir = data_dir\n",
    "        self.labels_file = labels_file\n",
    "        self.transform = transform\n",
    "        self.data = []\n",
    "        self.classes = []\n",
    "\n",
    "        self._load_data()\n",
    "\n",
    "    def __len__(self):\n",
    "        return len(self.data)\n",
    "\n",
    "    def __getitem__(self, idx):\n",
    "        image_name = self.data[idx][0]\n",
    "        superpixel_name = self.data[idx][1]\n",
    "        label = self.data[idx][2]\n",
    "\n",
    "        image_path = os.path.join(self.data_dir, f\"{image_name}.jpg\")\n",
    "        superpixel_path = os.path.join(self.data_dir, f\"{superpixel_name}.png\")\n",
    "\n",
    "        try:\n",
    "            image = Image.open(image_path).convert(\"RGB\")\n",
    "        except FileNotFoundError:\n",
    "            print(f\"Image file not found: {image_path}\")\n",
    "            image = Image.new(\"RGB\", (224, 224))  # Create a blank image if file is missing\n",
    "\n",
    "        try:\n",
    "            superpixel = Image.open(superpixel_path).convert(\"RGB\")\n",
    "        except FileNotFoundError:\n",
    "            print(f\"Superpixel file not found: {superpixel_path}\")\n",
    "            superpixel = Image.new(\"RGB\", (224, 224))  # Create a blank superpixel image if file is missing\n",
    "\n",
    "        if self.transform:\n",
    "            image = self.transform(image)\n",
    "            superpixel = self.transform(superpixel)\n",
    "\n",
    "        return image, superpixel, label\n",
    "\n",
    "    def _load_data(self):\n",
    "        df = pd.read_csv(self.labels_file)\n",
    "\n",
    "        for idx, row in df.iterrows():\n",
    "            image_name = row[\"image_id\"]\n",
    "            superpixel_name = row[\"image_id\"] + \"_superpixels\"\n",
    "            melanoma_label = row[\"melanoma\"]\n",
    "            seborrheic_keratosis_label = row[\"seborrheic_keratosis\"]\n",
    "\n",
    "            nevus_label = row.get(\"nevus\", 0)\n",
    "\n",
    "            if melanoma_label == 1:\n",
    "                label = 0  # Melanoma\n",
    "            elif seborrheic_keratosis_label == 1:\n",
    "                label = 2  # Seborrheic Keratosis\n",
    "            else:\n",
    "                label = 1  # Nevus\n",
    "\n",
    "            self.data.append((image_name, superpixel_name, label))\n",
    "\n",
    "            if label not in self.classes:\n",
    "                self.classes.append(label)\n"
   ]
  },
  {
   "cell_type": "code",
   "execution_count": 7,
   "id": "2afb7155-1b4d-45a9-88bc-290d40a4e957",
   "metadata": {
    "ExecuteTime": {
     "end_time": "2023-07-26T11:59:52.240867300Z",
     "start_time": "2023-07-26T11:59:52.127247200Z"
    }
   },
   "outputs": [
    {
     "name": "stdout",
     "output_type": "stream",
     "text": [
      "2000\n",
      "150\n",
      "600\n"
     ]
    }
   ],
   "source": [
    "# Load the dataset paths\n",
    "\n",
    "train_data_dir = \"C:\\Work\\Cancer Detection\\Data\\Train\"\n",
    "val_data_dir = \"C:\\Work\\Cancer Detection\\Data\\Val\"\n",
    "test_data_dir = \"C:\\Work\\Cancer Detection\\Data\\Test\"\n",
    "\n",
    "train_labels_file = \"C:\\Work\\Cancer Detection\\Data\\Train.csv\"\n",
    "val_labels_file = \"C:\\Work\\Cancer Detection\\Data\\Val.csv\"\n",
    "test_labels_file = \"C:\\Work\\Cancer Detection\\Data\\Test.csv\"\n",
    "\n",
    "num_epochs = 10\n",
    "batch_size = 64 #64\n",
    "learning_rate = 0.0001 #0.0001\n",
    "\n",
    "# Create train and validation datasets\n",
    "train_dataset = ISIC2017Dataset(train_data_dir, train_labels_file, transform)\n",
    "val_dataset = ISIC2017Dataset(val_data_dir, val_labels_file, transform)\n",
    "test_dataset = ISIC2017Dataset(test_data_dir, test_labels_file, transform)\n",
    "\n",
    "\n",
    "print(len(train_dataset))\n",
    "print(len(val_dataset))\n",
    "print(len(test_dataset))"
   ]
  },
  {
   "cell_type": "code",
   "execution_count": 10,
   "id": "29b4de7b-099c-49d7-899f-37c5f171c012",
   "metadata": {
    "ExecuteTime": {
     "end_time": "2023-07-26T12:03:01.485870400Z",
     "start_time": "2023-07-26T12:03:01.483358800Z"
    }
   },
   "outputs": [],
   "source": [
    "# Create data loaders\n",
    "train_loader = DataLoader(train_dataset, batch_size=batch_size, shuffle=True)\n",
    "val_loader = DataLoader(val_dataset, batch_size=batch_size)"
   ]
  },
  {
   "cell_type": "code",
   "execution_count": 11,
   "id": "2c2970a1-c47d-406b-9ba0-2593e0bf2176",
   "metadata": {
    "ExecuteTime": {
     "end_time": "2023-07-26T12:03:03.317444100Z",
     "start_time": "2023-07-26T12:03:03.032987900Z"
    }
   },
   "outputs": [],
   "source": [
    "#VGG16\n",
    "\n",
    "# Create model\n",
    "model = resnet50(pretrained=True)\n",
    "num_ftrs = model.fc.in_features\n",
    "model.fc = nn.Linear(num_ftrs, len(train_dataset.classes))\n",
    "model = model.to(device)"
   ]
  },
  {
   "cell_type": "code",
   "execution_count": 12,
   "id": "f8104a01-c7ee-41f1-9032-c44418f433b4",
   "metadata": {
    "ExecuteTime": {
     "end_time": "2023-07-26T12:03:05.349172400Z",
     "start_time": "2023-07-26T12:03:05.343162400Z"
    }
   },
   "outputs": [],
   "source": [
    "# Define loss function and optimizer\n",
    "criterion = nn.CrossEntropyLoss()\n",
    "optimizer = optim.SGD(model.parameters(), lr=0.001, momentum=0.9)"
   ]
  },
  {
   "cell_type": "code",
   "execution_count": 13,
   "id": "09ef188b-920d-4913-aca0-5c7e13dc68f0",
   "metadata": {
    "scrolled": true,
    "ExecuteTime": {
     "end_time": "2023-07-26T14:20:48.816960200Z",
     "start_time": "2023-07-26T12:03:11.368000100Z"
    }
   },
   "outputs": [
    {
     "name": "stdout",
     "output_type": "stream",
     "text": [
      "Epoch [1/10]\n",
      "Train Loss: 0.8286 | Train Accuracy: 68.00%\n",
      "Validation Loss: 0.8243 | Validation Accuracy: 61.33%\n",
      "==================================================\n",
      "Epoch [2/10]\n",
      "Train Loss: 0.6525 | Train Accuracy: 72.45%\n",
      "Validation Loss: 0.7522 | Validation Accuracy: 66.67%\n",
      "==================================================\n",
      "Epoch [3/10]\n",
      "Train Loss: 0.5337 | Train Accuracy: 79.15%\n",
      "Validation Loss: 0.6772 | Validation Accuracy: 70.00%\n",
      "==================================================\n",
      "Epoch [4/10]\n",
      "Train Loss: 0.4282 | Train Accuracy: 83.60%\n",
      "Validation Loss: 0.6566 | Validation Accuracy: 76.00%\n",
      "==================================================\n",
      "Epoch [5/10]\n",
      "Train Loss: 0.3118 | Train Accuracy: 88.80%\n",
      "Validation Loss: 0.7287 | Validation Accuracy: 70.00%\n",
      "==================================================\n",
      "Epoch [6/10]\n",
      "Train Loss: 0.2018 | Train Accuracy: 94.15%\n",
      "Validation Loss: 0.6389 | Validation Accuracy: 78.00%\n",
      "==================================================\n",
      "Epoch [7/10]\n",
      "Train Loss: 0.1305 | Train Accuracy: 97.75%\n",
      "Validation Loss: 0.6823 | Validation Accuracy: 76.00%\n",
      "==================================================\n",
      "Epoch [8/10]\n",
      "Train Loss: 0.0822 | Train Accuracy: 99.30%\n",
      "Validation Loss: 0.7823 | Validation Accuracy: 76.67%\n",
      "==================================================\n",
      "Epoch [9/10]\n",
      "Train Loss: 0.0508 | Train Accuracy: 99.75%\n",
      "Validation Loss: 0.8221 | Validation Accuracy: 74.00%\n",
      "==================================================\n",
      "Epoch [10/10]\n",
      "Train Loss: 0.0318 | Train Accuracy: 99.95%\n",
      "Validation Loss: 0.7975 | Validation Accuracy: 76.67%\n",
      "==================================================\n"
     ]
    }
   ],
   "source": [
    "# Training loop\n",
    "train_losses = []\n",
    "train_accuracies = []\n",
    "val_losses = []\n",
    "val_accuracies = []\n",
    "\n",
    "for epoch in range(num_epochs):\n",
    "    # Training\n",
    "    model.train()\n",
    "    train_loss = 0.0\n",
    "    train_correct = 0\n",
    "    train_total = 0\n",
    "\n",
    "    for images, superpixels, labels in train_loader:\n",
    "        images = images.to(device)\n",
    "        superpixels = superpixels.to(device)\n",
    "        labels = labels.to(device)\n",
    "\n",
    "        # Forward pass\n",
    "        outputs = model(images)\n",
    "\n",
    "        # Compute loss\n",
    "        loss = criterion(outputs, labels)\n",
    "\n",
    "        # Backward and optimize\n",
    "        optimizer.zero_grad()\n",
    "        loss.backward()\n",
    "        optimizer.step()\n",
    "\n",
    "        # Compute accuracy\n",
    "        _, predicted = torch.max(outputs, 1)\n",
    "        train_total += labels.size(0)\n",
    "        train_correct += (predicted == labels).sum().item()\n",
    "\n",
    "        train_loss += loss.item()\n",
    "\n",
    "    train_accuracy = 100 * train_correct / train_total\n",
    "\n",
    "    # Validation\n",
    "    model.eval()\n",
    "    val_loss = 0.0\n",
    "    val_correct = 0\n",
    "    val_total = 0\n",
    "\n",
    "    with torch.no_grad():\n",
    "        for images, superpixels, labels in val_loader:\n",
    "            images = images.to(device)\n",
    "            superpixels = superpixels.to(device)\n",
    "            labels = labels.to(device)\n",
    "\n",
    "            # Forward pass\n",
    "            outputs = model(images)\n",
    "\n",
    "            # Compute loss\n",
    "            loss = criterion(outputs, labels)\n",
    "\n",
    "            # Compute accuracy\n",
    "            _, predicted = torch.max(outputs, 1)\n",
    "            val_total += labels.size(0)\n",
    "            val_correct += (predicted == labels).sum().item()\n",
    "\n",
    "            val_loss += loss.item()\n",
    "\n",
    "    val_accuracy = 100 * val_correct / val_total\n",
    "\n",
    "    # Save the model\n",
    "    torch.save(model.state_dict(), f\"model_epoch_{epoch+1}.pth\")\n",
    "\n",
    "    # Print epoch results\n",
    "    print(f\"Epoch [{epoch+1}/{num_epochs}]\")\n",
    "    print(f\"Train Loss: {train_loss / len(train_loader):.4f} | Train Accuracy: {train_accuracy:.2f}%\")\n",
    "    print(f\"Validation Loss: {val_loss / len(val_loader):.4f} | Validation Accuracy: {val_accuracy:.2f}%\")\n",
    "    print(\"=\" * 50)\n",
    "\n",
    "    # Collect metrics for plotting\n",
    "    train_losses.append(train_loss / len(train_loader))\n",
    "    train_accuracies.append(train_accuracy)\n",
    "    val_losses.append(val_loss / len(val_loader))\n",
    "    val_accuracies.append(val_accuracy)"
   ]
  },
  {
   "cell_type": "code",
   "execution_count": 16,
   "id": "da6ca7e2-5b1c-4f52-b96c-6098750a76cd",
   "metadata": {
    "ExecuteTime": {
     "end_time": "2023-07-06T13:41:39.433828400Z",
     "start_time": "2023-07-06T13:41:38.863238500Z"
    }
   },
   "outputs": [
    {
     "data": {
      "text/plain": "<Figure size 1200x400 with 2 Axes>",
      "image/png": "[encoded data removed]"
     },
     "metadata": {},
     "output_type": "display_data"
    }
   ],
   "source": [
    "# Plot training and validation metrics\n",
    "epochs = range(1, num_epochs+1)\n",
    "\n",
    "# Plot training and validation loss\n",
    "plt.figure(figsize=(12, 4))\n",
    "plt.subplot(1, 2, 1)\n",
    "plt.plot(epochs, train_losses, label='Training Loss')\n",
    "plt.plot(epochs, val_losses, label='Validation Loss')\n",
    "plt.xlabel('Epochs')\n",
    "plt.ylabel('Loss')\n",
    "plt.title('Training and Validation Loss')\n",
    "plt.legend()\n",
    "\n",
    "# Plot training and validation accuracy\n",
    "plt.subplot(1, 2, 2)\n",
    "plt.plot(epochs, train_accuracies, label='Training Accuracy')\n",
    "plt.plot(epochs, val_accuracies, label='Validation Accuracy')\n",
    "plt.xlabel('Epochs')\n",
    "plt.ylabel('Accuracy')\n",
    "plt.title('Training and Validation Accuracy')\n",
    "plt.legend()\n",
    "\n",
    "plt.tight_layout()\n",
    "plt.show()"
   ]
  },
  {
   "cell_type": "code",
   "execution_count": 13,
   "id": "61568c88-9f55-401b-8782-26699b2ea619",
   "metadata": {
    "colab": {
     "base_uri": "https://localhost:8080/",
     "height": 1000
    },
    "id": "eGHPstZgIhmY",
    "outputId": "be7cca97-0acf-44f6-c75b-a09e2cf68580",
    "ExecuteTime": {
     "end_time": "2023-07-07T10:36:05.733258400Z",
     "start_time": "2023-07-07T10:36:05.239669300Z"
    }
   },
   "outputs": [
    {
     "name": "stderr",
     "output_type": "stream",
     "text": [
      "C:\\Users\\areez\\AppData\\Local\\Programs\\Python\\Python311\\Lib\\site-packages\\torchvision\\models\\_utils.py:208: UserWarning: The parameter 'pretrained' is deprecated since 0.13 and may be removed in the future, please use 'weights' instead.\n",
      "  warnings.warn(\n",
      "C:\\Users\\areez\\AppData\\Local\\Programs\\Python\\Python311\\Lib\\site-packages\\torchvision\\models\\_utils.py:223: UserWarning: Arguments other than a weight enum or `None` for 'weights' are deprecated since 0.13 and may be removed in the future. The current behavior is equivalent to passing `weights=ResNet50_Weights.IMAGENET1K_V1`. You can also use `weights=ResNet50_Weights.DEFAULT` to get the most up-to-date weights.\n",
      "  warnings.warn(msg)\n"
     ]
    }
   ],
   "source": [
    "from sklearn.metrics import confusion_matrix\n",
    "import seaborn as sns\n",
    "\n",
    "# Reload the saved model\n",
    "model = resnet50(pretrained=True)\n",
    "num_ftrs = model.fc.in_features\n",
    "model.fc = nn.Linear(num_ftrs, len(val_dataset.classes))\n",
    "model.load_state_dict(torch.load(r\"C:\\Work\\Cancer Detection\\1stModel\\model_epoch_10.pth\"))\n",
    "model = model.to(device)\n",
    "\n"
   ]
  },
  {
   "cell_type": "code",
   "execution_count": 14,
   "id": "12b6744b-2c55-4372-9742-72bb90d2408a",
   "metadata": {
    "ExecuteTime": {
     "end_time": "2023-07-07T10:36:55.840465100Z",
     "start_time": "2023-07-07T10:36:08.393528600Z"
    }
   },
   "outputs": [
    {
     "data": {
      "text/plain": "<Figure size 800x600 with 2 Axes>",
      "image/png": "[encoded data removed]"
     },
     "metadata": {},
     "output_type": "display_data"
    }
   ],
   "source": [
    "# Evaluate the model on the validation data\n",
    "model.eval()\n",
    "all_predictions = []\n",
    "all_labels = []\n",
    "\n",
    "with torch.no_grad():\n",
    "    for images, superpixels, labels in val_loader:\n",
    "        images = images.to(device)\n",
    "        superpixels = superpixels.to(device)\n",
    "        labels = labels.to(device)\n",
    "\n",
    "        # Forward pass\n",
    "        outputs = model(images)\n",
    "\n",
    "        # Get predicted labels\n",
    "        _, predicted = torch.max(outputs.data, 1)\n",
    "\n",
    "        # Save predictions and labels\n",
    "        all_predictions.extend(predicted.cpu().numpy())\n",
    "        all_labels.extend(labels.cpu().numpy())\n",
    "\n",
    "# Create the confusion matrix\n",
    "cm = confusion_matrix(all_labels, all_predictions)\n",
    "\n",
    "# Plot the confusion matrix\n",
    "class_names = [\"Melanoma\", \"Nevus\", \"Seborrheic Keratosis\"]\n",
    "plt.figure(figsize=(8, 6))\n",
    "sns.heatmap(cm, annot=True, fmt=\"d\", cmap=\"Blues\", xticklabels=class_names, yticklabels=class_names)\n",
    "plt.xlabel(\"Predicted\")\n",
    "plt.ylabel(\"True\")\n",
    "plt.title(\"Confusion Matrix (Validation Data)\")\n",
    "plt.show()"
   ]
  },
  {
   "cell_type": "code",
   "execution_count": 15,
   "outputs": [
    {
     "data": {
      "text/plain": "<Figure size 640x480 with 0 Axes>"
     },
     "metadata": {},
     "output_type": "display_data"
    }
   ],
   "source": [
    "plt.savefig(r\"C:\\Work\\Cancer Detection\\1stModel\\confusion_matrix.png\")"
   ],
   "metadata": {
    "collapsed": false,
    "ExecuteTime": {
     "end_time": "2023-07-07T10:50:07.062562600Z",
     "start_time": "2023-07-07T10:50:07.013809200Z"
    }
   }
  },
  {
   "cell_type": "code",
   "execution_count": 20,
   "outputs": [
    {
     "name": "stdout",
     "output_type": "stream",
     "text": [
      "Accuracy: 0.7666666666666667\n",
      "Precision: 0.7644444444444444\n",
      "Recall: 0.7666666666666667\n",
      "F1 Score: 0.7525648803505225\n"
     ]
    }
   ],
   "source": [
    "from sklearn.metrics import accuracy_score, precision_score, recall_score, f1_score\n",
    "\n",
    "# Compute accuracy\n",
    "accuracy = accuracy_score(all_labels, all_predictions)\n",
    "\n",
    "# Compute precision\n",
    "precision = precision_score(all_labels, all_predictions, average='weighted')\n",
    "\n",
    "# Compute recall\n",
    "recall = recall_score(all_labels, all_predictions, average='weighted')\n",
    "\n",
    "# Compute F1 score\n",
    "f1 = f1_score(all_labels, all_predictions, average='weighted')\n",
    "\n",
    "print(\"Accuracy:\", accuracy)\n",
    "print(\"Precision:\", precision)\n",
    "print(\"Recall:\", recall)\n",
    "print(\"F1 Score:\", f1)"
   ],
   "metadata": {
    "collapsed": false,
    "ExecuteTime": {
     "end_time": "2023-07-07T10:54:48.296898900Z",
     "start_time": "2023-07-07T10:54:48.279003900Z"
    }
   }
  },
  {
   "cell_type": "markdown",
   "source": [
    "## Test Data"
   ],
   "metadata": {
    "collapsed": false
   }
  },
  {
   "cell_type": "code",
   "execution_count": 6,
   "outputs": [],
   "source": [
    "# Set paths and hyperparameters\n",
    "test_data_dir = \"C:\\Work\\Cancer Detection\\Data\\Test\"\n",
    "test_labels_file = \"C:\\Work\\Cancer Detection\\Data\\Test.csv\"\n",
    "test_batch_size = 32"
   ],
   "metadata": {
    "collapsed": false,
    "ExecuteTime": {
     "end_time": "2023-07-19T13:27:43.467955700Z",
     "start_time": "2023-07-19T13:27:43.461372100Z"
    }
   }
  },
  {
   "cell_type": "code",
   "execution_count": 7,
   "outputs": [],
   "source": [
    "# Create test dataset\n",
    "test_dataset = ISIC2017Dataset(test_data_dir, test_labels_file, transform)"
   ],
   "metadata": {
    "collapsed": false,
    "ExecuteTime": {
     "end_time": "2023-07-19T13:27:53.842964900Z",
     "start_time": "2023-07-19T13:27:53.800152200Z"
    }
   }
  },
  {
   "cell_type": "code",
   "execution_count": 8,
   "outputs": [],
   "source": [
    "test_loader = DataLoader(test_dataset, batch_size=test_batch_size)"
   ],
   "metadata": {
    "collapsed": false,
    "ExecuteTime": {
     "end_time": "2023-07-19T13:27:55.354027600Z",
     "start_time": "2023-07-19T13:27:55.331508600Z"
    }
   }
  },
  {
   "cell_type": "code",
   "execution_count": 9,
   "outputs": [
    {
     "name": "stderr",
     "output_type": "stream",
     "text": [
      "C:\\Users\\areez\\AppData\\Local\\Programs\\Python\\Python311\\Lib\\site-packages\\torchvision\\models\\_utils.py:208: UserWarning: The parameter 'pretrained' is deprecated since 0.13 and may be removed in the future, please use 'weights' instead.\n",
      "  warnings.warn(\n",
      "C:\\Users\\areez\\AppData\\Local\\Programs\\Python\\Python311\\Lib\\site-packages\\torchvision\\models\\_utils.py:223: UserWarning: Arguments other than a weight enum or `None` for 'weights' are deprecated since 0.13 and may be removed in the future. The current behavior is equivalent to passing `weights=ResNet50_Weights.IMAGENET1K_V1`. You can also use `weights=ResNet50_Weights.DEFAULT` to get the most up-to-date weights.\n",
      "  warnings.warn(msg)\n"
     ]
    }
   ],
   "source": [
    "# Reload the saved model\n",
    "resnet_model = resnet50(pretrained=True)\n",
    "num_ftrs = resnet_model.fc.in_features\n",
    "resnet_model.fc = torch.nn.Linear(num_ftrs, len(test_dataset.classes))\n",
    "resnet_model.load_state_dict(torch.load(r\"C:\\Work\\Cancer Detection\\1stModel\\model_epoch_10.pth\"))\n",
    "resnet_model = resnet_model.to(device)"
   ],
   "metadata": {
    "collapsed": false,
    "ExecuteTime": {
     "end_time": "2023-07-19T13:46:29.844760600Z",
     "start_time": "2023-07-19T13:46:28.801784Z"
    }
   }
  },
  {
   "cell_type": "code",
   "execution_count": 10,
   "outputs": [],
   "source": [
    "# Load the test data and labels\n",
    "all_images = []\n",
    "all_labels = []\n",
    "for images, _, labels in test_loader:\n",
    "    all_images.extend(images)\n",
    "    all_labels.extend(labels)\n",
    "\n",
    "all_images = torch.stack(all_images).to(device)\n",
    "all_labels = torch.tensor(all_labels).to(device)"
   ],
   "metadata": {
    "collapsed": false,
    "ExecuteTime": {
     "end_time": "2023-07-19T13:51:35.711233200Z",
     "start_time": "2023-07-19T13:47:58.212664300Z"
    }
   }
  },
  {
   "cell_type": "code",
   "execution_count": 11,
   "outputs": [],
   "source": [
    "# Obtain ResNet-50 predictions and probabilities\n",
    "resnet_model.eval()\n",
    "with torch.no_grad():\n",
    "    resnet_outputs = resnet_model(all_images)\n",
    "    _, resnet_predictions = torch.max(resnet_outputs, 1)\n",
    "    resnet_softmax = torch.nn.Softmax(dim=1)\n",
    "    resnet_probabilities = resnet_softmax(resnet_outputs)\n",
    "    resnet_predictions = resnet_predictions.cpu().numpy()\n",
    "    resnet_probabilities = resnet_probabilities.cpu().numpy()"
   ],
   "metadata": {
    "collapsed": false,
    "ExecuteTime": {
     "end_time": "2023-07-19T13:52:51.922361400Z",
     "start_time": "2023-07-19T13:52:14.351353600Z"
    }
   }
  },
  {
   "cell_type": "code",
   "execution_count": 12,
   "outputs": [],
   "source": [
    "# Reshape ResNet-50 probabilities for scikit-learn compatibility\n",
    "resnet_probabilities = np.reshape(resnet_probabilities, (-1, len(test_dataset.classes)))"
   ],
   "metadata": {
    "collapsed": false,
    "ExecuteTime": {
     "end_time": "2023-07-19T13:52:55.381513700Z",
     "start_time": "2023-07-19T13:52:55.371836200Z"
    }
   }
  },
  {
   "cell_type": "code",
   "execution_count": 13,
   "outputs": [],
   "source": [
    "# Flatten ResNet-50 predictions and labels\n",
    "resnet_predictions_flat = np.ravel(resnet_predictions)\n",
    "all_labels_flat = np.ravel(all_labels.cpu().numpy())"
   ],
   "metadata": {
    "collapsed": false,
    "ExecuteTime": {
     "end_time": "2023-07-19T13:52:57.696991300Z",
     "start_time": "2023-07-19T13:52:57.689104300Z"
    }
   }
  },
  {
   "cell_type": "code",
   "execution_count": 14,
   "outputs": [
    {
     "data": {
      "text/plain": "RandomForestClassifier(random_state=42)",
      "text/html": "<style>#sk-container-id-1 {color: black;}#sk-container-id-1 pre{padding: 0;}#sk-container-id-1 div.sk-toggleable {background-color: white;}#sk-container-id-1 label.sk-toggleable__label {cursor: pointer;display: block;width: 100%;margin-bottom: 0;padding: 0.3em;box-sizing: border-box;text-align: center;}#sk-container-id-1 label.sk-toggleable__label-arrow:before {content: \"▸\";float: left;margin-right: 0.25em;color: #696969;}#sk-container-id-1 label.sk-toggleable__label-arrow:hover:before {color: black;}#sk-container-id-1 div.sk-estimator:hover label.sk-toggleable__label-arrow:before {color: black;}#sk-container-id-1 div.sk-toggleable__content {max-height: 0;max-width: 0;overflow: hidden;text-align: left;background-color: #f0f8ff;}#sk-container-id-1 div.sk-toggleable__content pre {margin: 0.2em;color: black;border-radius: 0.25em;background-color: #f0f8ff;}#sk-container-id-1 input.sk-toggleable__control:checked~div.sk-toggleable__content {max-height: 200px;max-width: 100%;overflow: auto;}#sk-container-id-1 input.sk-toggleable__control:checked~label.sk-toggleable__label-arrow:before {content: \"▾\";}#sk-container-id-1 div.sk-estimator input.sk-toggleable__control:checked~label.sk-toggleable__label {background-color: #d4ebff;}#sk-container-id-1 div.sk-label input.sk-toggleable__control:checked~label.sk-toggleable__label {background-color: #d4ebff;}#sk-container-id-1 input.sk-hidden--visually {border: 0;clip: rect(1px 1px 1px 1px);clip: rect(1px, 1px, 1px, 1px);height: 1px;margin: -1px;overflow: hidden;padding: 0;position: absolute;width: 1px;}#sk-container-id-1 div.sk-estimator {font-family: monospace;background-color: #f0f8ff;border: 1px dotted black;border-radius: 0.25em;box-sizing: border-box;margin-bottom: 0.5em;}#sk-container-id-1 div.sk-estimator:hover {background-color: #d4ebff;}#sk-container-id-1 div.sk-parallel-item::after {content: \"\";width: 100%;border-bottom: 1px solid gray;flex-grow: 1;}#sk-container-id-1 div.sk-label:hover label.sk-toggleable__label {background-color: #d4ebff;}#sk-container-id-1 div.sk-serial::before {content: \"\";position: absolute;border-left: 1px solid gray;box-sizing: border-box;top: 0;bottom: 0;left: 50%;z-index: 0;}#sk-container-id-1 div.sk-serial {display: flex;flex-direction: column;align-items: center;background-color: white;padding-right: 0.2em;padding-left: 0.2em;position: relative;}#sk-container-id-1 div.sk-item {position: relative;z-index: 1;}#sk-container-id-1 div.sk-parallel {display: flex;align-items: stretch;justify-content: center;background-color: white;position: relative;}#sk-container-id-1 div.sk-item::before, #sk-container-id-1 div.sk-parallel-item::before {content: \"\";position: absolute;border-left: 1px solid gray;box-sizing: border-box;top: 0;bottom: 0;left: 50%;z-index: -1;}#sk-container-id-1 div.sk-parallel-item {display: flex;flex-direction: column;z-index: 1;position: relative;background-color: white;}#sk-container-id-1 div.sk-parallel-item:first-child::after {align-self: flex-end;width: 50%;}#sk-container-id-1 div.sk-parallel-item:last-child::after {align-self: flex-start;width: 50%;}#sk-container-id-1 div.sk-parallel-item:only-child::after {width: 0;}#sk-container-id-1 div.sk-dashed-wrapped {border: 1px dashed gray;margin: 0 0.4em 0.5em 0.4em;box-sizing: border-box;padding-bottom: 0.4em;background-color: white;}#sk-container-id-1 div.sk-label label {font-family: monospace;font-weight: bold;display: inline-block;line-height: 1.2em;}#sk-container-id-1 div.sk-label-container {text-align: center;}#sk-container-id-1 div.sk-container {/* jupyter's `normalize.less` sets `[hidden] { display: none; }` but bootstrap.min.css set `[hidden] { display: none !important; }` so we also need the `!important` here to be able to override the default hidden behavior on the sphinx rendered scikit-learn.org. See: https://github.com/scikit-learn/scikit-learn/issues/21755 */display: inline-block !important;position: relative;}#sk-container-id-1 div.sk-text-repr-fallback {display: none;}</style><div id=\"sk-container-id-1\" class=\"sk-top-container\"><div class=\"sk-text-repr-fallback\"><pre>RandomForestClassifier(random_state=42)</pre><b>In a Jupyter environment, please rerun this cell to show the HTML representation or trust the notebook. <br />On GitHub, the HTML representation is unable to render, please try loading this page with nbviewer.org.</b></div><div class=\"sk-container\" hidden><div class=\"sk-item\"><div class=\"sk-estimator sk-toggleable\"><input class=\"sk-toggleable__control sk-hidden--visually\" id=\"sk-estimator-id-1\" type=\"checkbox\" checked><label for=\"sk-estimator-id-1\" class=\"sk-toggleable__label sk-toggleable__label-arrow\">RandomForestClassifier</label><div class=\"sk-toggleable__content\"><pre>RandomForestClassifier(random_state=42)</pre></div></div></div></div></div>"
     },
     "execution_count": 14,
     "metadata": {},
     "output_type": "execute_result"
    }
   ],
   "source": [
    "# Define and train the Random Forest classifier\n",
    "rf_classifier = RandomForestClassifier(n_estimators=100, random_state=42)\n",
    "rf_classifier.fit(resnet_probabilities, all_labels_flat)"
   ],
   "metadata": {
    "collapsed": false,
    "ExecuteTime": {
     "end_time": "2023-07-19T13:53:14.312695700Z",
     "start_time": "2023-07-19T13:53:14.123179300Z"
    }
   }
  },
  {
   "cell_type": "code",
   "execution_count": 15,
   "outputs": [
    {
     "data": {
      "text/plain": "SVC(probability=True, random_state=42)",
      "text/html": "<style>#sk-container-id-2 {color: black;}#sk-container-id-2 pre{padding: 0;}#sk-container-id-2 div.sk-toggleable {background-color: white;}#sk-container-id-2 label.sk-toggleable__label {cursor: pointer;display: block;width: 100%;margin-bottom: 0;padding: 0.3em;box-sizing: border-box;text-align: center;}#sk-container-id-2 label.sk-toggleable__label-arrow:before {content: \"▸\";float: left;margin-right: 0.25em;color: #696969;}#sk-container-id-2 label.sk-toggleable__label-arrow:hover:before {color: black;}#sk-container-id-2 div.sk-estimator:hover label.sk-toggleable__label-arrow:before {color: black;}#sk-container-id-2 div.sk-toggleable__content {max-height: 0;max-width: 0;overflow: hidden;text-align: left;background-color: #f0f8ff;}#sk-container-id-2 div.sk-toggleable__content pre {margin: 0.2em;color: black;border-radius: 0.25em;background-color: #f0f8ff;}#sk-container-id-2 input.sk-toggleable__control:checked~div.sk-toggleable__content {max-height: 200px;max-width: 100%;overflow: auto;}#sk-container-id-2 input.sk-toggleable__control:checked~label.sk-toggleable__label-arrow:before {content: \"▾\";}#sk-container-id-2 div.sk-estimator input.sk-toggleable__control:checked~label.sk-toggleable__label {background-color: #d4ebff;}#sk-container-id-2 div.sk-label input.sk-toggleable__control:checked~label.sk-toggleable__label {background-color: #d4ebff;}#sk-container-id-2 input.sk-hidden--visually {border: 0;clip: rect(1px 1px 1px 1px);clip: rect(1px, 1px, 1px, 1px);height: 1px;margin: -1px;overflow: hidden;padding: 0;position: absolute;width: 1px;}#sk-container-id-2 div.sk-estimator {font-family: monospace;background-color: #f0f8ff;border: 1px dotted black;border-radius: 0.25em;box-sizing: border-box;margin-bottom: 0.5em;}#sk-container-id-2 div.sk-estimator:hover {background-color: #d4ebff;}#sk-container-id-2 div.sk-parallel-item::after {content: \"\";width: 100%;border-bottom: 1px solid gray;flex-grow: 1;}#sk-container-id-2 div.sk-label:hover label.sk-toggleable__label {background-color: #d4ebff;}#sk-container-id-2 div.sk-serial::before {content: \"\";position: absolute;border-left: 1px solid gray;box-sizing: border-box;top: 0;bottom: 0;left: 50%;z-index: 0;}#sk-container-id-2 div.sk-serial {display: flex;flex-direction: column;align-items: center;background-color: white;padding-right: 0.2em;padding-left: 0.2em;position: relative;}#sk-container-id-2 div.sk-item {position: relative;z-index: 1;}#sk-container-id-2 div.sk-parallel {display: flex;align-items: stretch;justify-content: center;background-color: white;position: relative;}#sk-container-id-2 div.sk-item::before, #sk-container-id-2 div.sk-parallel-item::before {content: \"\";position: absolute;border-left: 1px solid gray;box-sizing: border-box;top: 0;bottom: 0;left: 50%;z-index: -1;}#sk-container-id-2 div.sk-parallel-item {display: flex;flex-direction: column;z-index: 1;position: relative;background-color: white;}#sk-container-id-2 div.sk-parallel-item:first-child::after {align-self: flex-end;width: 50%;}#sk-container-id-2 div.sk-parallel-item:last-child::after {align-self: flex-start;width: 50%;}#sk-container-id-2 div.sk-parallel-item:only-child::after {width: 0;}#sk-container-id-2 div.sk-dashed-wrapped {border: 1px dashed gray;margin: 0 0.4em 0.5em 0.4em;box-sizing: border-box;padding-bottom: 0.4em;background-color: white;}#sk-container-id-2 div.sk-label label {font-family: monospace;font-weight: bold;display: inline-block;line-height: 1.2em;}#sk-container-id-2 div.sk-label-container {text-align: center;}#sk-container-id-2 div.sk-container {/* jupyter's `normalize.less` sets `[hidden] { display: none; }` but bootstrap.min.css set `[hidden] { display: none !important; }` so we also need the `!important` here to be able to override the default hidden behavior on the sphinx rendered scikit-learn.org. See: https://github.com/scikit-learn/scikit-learn/issues/21755 */display: inline-block !important;position: relative;}#sk-container-id-2 div.sk-text-repr-fallback {display: none;}</style><div id=\"sk-container-id-2\" class=\"sk-top-container\"><div class=\"sk-text-repr-fallback\"><pre>SVC(probability=True, random_state=42)</pre><b>In a Jupyter environment, please rerun this cell to show the HTML representation or trust the notebook. <br />On GitHub, the HTML representation is unable to render, please try loading this page with nbviewer.org.</b></div><div class=\"sk-container\" hidden><div class=\"sk-item\"><div class=\"sk-estimator sk-toggleable\"><input class=\"sk-toggleable__control sk-hidden--visually\" id=\"sk-estimator-id-2\" type=\"checkbox\" checked><label for=\"sk-estimator-id-2\" class=\"sk-toggleable__label sk-toggleable__label-arrow\">SVC</label><div class=\"sk-toggleable__content\"><pre>SVC(probability=True, random_state=42)</pre></div></div></div></div></div>"
     },
     "execution_count": 15,
     "metadata": {},
     "output_type": "execute_result"
    }
   ],
   "source": [
    "# Define and train the SVM classifier\n",
    "svm_classifier = SVC(kernel='rbf', probability=True, random_state=42)\n",
    "svm_classifier.fit(resnet_probabilities, all_labels_flat)"
   ],
   "metadata": {
    "collapsed": false,
    "ExecuteTime": {
     "end_time": "2023-07-19T13:53:34.542968800Z",
     "start_time": "2023-07-19T13:53:34.489443500Z"
    }
   }
  },
  {
   "cell_type": "code",
   "execution_count": 16,
   "outputs": [],
   "source": [
    "# Evaluate the Random Forest model\n",
    "rf_predictions = rf_classifier.predict(resnet_probabilities)\n",
    "rf_probabilities = rf_classifier.predict_proba(resnet_probabilities)\n",
    "rf_accuracy = accuracy_score(all_labels_flat, rf_predictions)\n",
    "rf_precision = precision_score(all_labels_flat, rf_predictions, average='weighted')\n",
    "rf_recall = recall_score(all_labels_flat, rf_predictions, average='weighted')\n",
    "rf_f1 = f1_score(all_labels_flat, rf_predictions, average='weighted')\n",
    "rf_auc_scores = []\n",
    "for class_idx in range(len(test_dataset.classes)):\n",
    "    true_labels = (all_labels_flat == class_idx)\n",
    "    class_probs = rf_probabilities[:, class_idx]\n",
    "    auc = roc_auc_score(true_labels, class_probs)\n",
    "    rf_auc_scores.append(auc)\n",
    "rf_cm = confusion_matrix(all_labels_flat, rf_predictions)"
   ],
   "metadata": {
    "collapsed": false,
    "ExecuteTime": {
     "end_time": "2023-07-19T13:53:55.999445500Z",
     "start_time": "2023-07-19T13:53:55.957370900Z"
    }
   }
  },
  {
   "cell_type": "code",
   "execution_count": 17,
   "outputs": [],
   "source": [
    "# Evaluate the SVM model\n",
    "svm_predictions = svm_classifier.predict(resnet_probabilities)\n",
    "svm_probabilities = svm_classifier.predict_proba(resnet_probabilities)\n",
    "svm_accuracy = accuracy_score(all_labels_flat, svm_predictions)\n",
    "svm_precision = precision_score(all_labels_flat, svm_predictions, average='weighted')\n",
    "svm_recall = recall_score(all_labels_flat, svm_predictions, average='weighted')\n",
    "svm_f1 = f1_score(all_labels_flat, svm_predictions, average='weighted')\n",
    "svm_auc_scores = []\n",
    "for class_idx in range(len(test_dataset.classes)):\n",
    "    true_labels = (all_labels_flat == class_idx)\n",
    "    class_probs = svm_probabilities[:, class_idx]\n",
    "    auc = roc_auc_score(true_labels, class_probs)\n",
    "    svm_auc_scores.append(auc)\n",
    "svm_cm = confusion_matrix(all_labels_flat, svm_predictions)\n"
   ],
   "metadata": {
    "collapsed": false,
    "ExecuteTime": {
     "end_time": "2023-07-19T13:54:06.882166900Z",
     "start_time": "2023-07-19T13:54:06.837170700Z"
    }
   }
  },
  {
   "cell_type": "code",
   "execution_count": 18,
   "outputs": [
    {
     "name": "stdout",
     "output_type": "stream",
     "text": [
      "ResNet-50 Model:\n",
      "Accuracy: 0.7366666666666667\n",
      "Precision: 0.7517632436662287\n",
      "Recall: 0.7366666666666667\n",
      "F1 Score: 0.7385451357348483\n",
      "AUC Score (Class 0): 1.0\n",
      "AUC Score (Class 1): 1.0\n",
      "AUC Score (Class 2): 1.0\n",
      "Confusion Matrix:\n",
      "[[117   0   0]\n",
      " [  0 393   0]\n",
      " [  0   0  90]]\n",
      "\n",
      "Random Forest Model:\n",
      "Accuracy: 1.0\n",
      "Precision: 1.0\n",
      "Recall: 1.0\n",
      "F1 Score: 1.0\n",
      "AUC Score (Class 0): 1.0\n",
      "AUC Score (Class 1): 1.0\n",
      "AUC Score (Class 2): 1.0\n",
      "Confusion Matrix:\n",
      "[[117   0   0]\n",
      " [  0 393   0]\n",
      " [  0   0  90]]\n",
      "\n",
      "SVM Model:\n",
      "Accuracy: 0.76\n",
      "Precision: 0.7497763034067382\n",
      "Recall: 0.76\n",
      "F1 Score: 0.7527695061693374\n",
      "AUC Score (Class 0): 0.7121976252411035\n",
      "AUC Score (Class 1): 0.8080662806849331\n",
      "AUC Score (Class 2): 0.8715904139433551\n",
      "Confusion Matrix:\n",
      "[[ 55  48  14]\n",
      " [ 26 347  20]\n",
      " [ 11  25  54]]\n"
     ]
    }
   ],
   "source": [
    "# Print evaluation metrics for each model\n",
    "print(\"ResNet-50 Model:\")\n",
    "print(\"Accuracy:\", accuracy_score(all_labels_flat, resnet_predictions))\n",
    "print(\"Precision:\", precision_score(all_labels_flat, resnet_predictions, average='weighted'))\n",
    "print(\"Recall:\", recall_score(all_labels_flat, resnet_predictions, average='weighted'))\n",
    "print(\"F1 Score:\", f1_score(all_labels_flat, resnet_predictions, average='weighted'))\n",
    "for class_idx, auc in enumerate(rf_auc_scores):\n",
    "    print(f\"AUC Score (Class {class_idx}): {auc}\")\n",
    "print(\"Confusion Matrix:\")\n",
    "print(rf_cm)\n",
    "print(\"\\nRandom Forest Model:\")\n",
    "print(\"Accuracy:\", rf_accuracy)\n",
    "print(\"Precision:\", rf_precision)\n",
    "print(\"Recall:\", rf_recall)\n",
    "print(\"F1 Score:\", rf_f1)\n",
    "for class_idx, auc in enumerate(rf_auc_scores):\n",
    "    print(f\"AUC Score (Class {class_idx}): {auc}\")\n",
    "print(\"Confusion Matrix:\")\n",
    "print(rf_cm)\n",
    "print(\"\\nSVM Model:\")\n",
    "print(\"Accuracy:\", svm_accuracy)\n",
    "print(\"Precision:\", svm_precision)\n",
    "print(\"Recall:\", svm_recall)\n",
    "print(\"F1 Score:\", svm_f1)\n",
    "for class_idx, auc in enumerate(svm_auc_scores):\n",
    "    print(f\"AUC Score (Class {class_idx}): {auc}\")\n",
    "print(\"Confusion Matrix:\")\n",
    "print(svm_cm)"
   ],
   "metadata": {
    "collapsed": false,
    "ExecuteTime": {
     "end_time": "2023-07-19T13:54:19.278573200Z",
     "start_time": "2023-07-19T13:54:19.262471100Z"
    }
   }
  },
  {
   "cell_type": "code",
   "execution_count": null,
   "outputs": [],
   "source": [],
   "metadata": {
    "collapsed": false
   }
  }
 ],
 "metadata": {
  "kernelspec": {
   "display_name": "Python 3 (ipykernel)",
   "language": "python",
   "name": "python3"
  },
  "language_info": {
   "codemirror_mode": {
    "name": "ipython",
    "version": 3
   },
   "file_extension": ".py",
   "mimetype": "text/x-python",
   "name": "python",
   "nbconvert_exporter": "python",
   "pygments_lexer": "ipython3",
   "version": "3.11.4"
  }
 },
 "nbformat": 4,
 "nbformat_minor": 5
}
